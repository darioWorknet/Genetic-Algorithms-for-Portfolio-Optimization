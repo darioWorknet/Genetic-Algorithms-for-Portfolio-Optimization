{
 "cells": [
  {
   "cell_type": "markdown",
   "id": "legendary-disabled",
   "metadata": {},
   "source": [
    "# Algorithm"
   ]
  },
  {
   "cell_type": "code",
   "execution_count": 1,
   "id": "bright-electricity",
   "metadata": {},
   "outputs": [],
   "source": [
    "import pandas as pd\n",
    "from DBhelper import db_helper\n",
    "import random\n",
    "import numpy as np\n",
    "import math"
   ]
  },
  {
   "cell_type": "markdown",
   "id": "still-summit",
   "metadata": {},
   "source": [
    "## Connection to database"
   ]
  },
  {
   "cell_type": "code",
   "execution_count": 2,
   "id": "miniature-ontario",
   "metadata": {},
   "outputs": [],
   "source": [
    "db = db_helper(db='test_ticker')"
   ]
  },
  {
   "cell_type": "markdown",
   "id": "bigger-magnitude",
   "metadata": {},
   "source": [
    "### Step 1\n",
    "- Define a time range\n",
    "- Get valid stocks for that range"
   ]
  },
  {
   "cell_type": "code",
   "execution_count": 3,
   "id": "stainless-capture",
   "metadata": {},
   "outputs": [],
   "source": [
    "def get_ticker_sizes(db, start, end):\n",
    "    ticker_sizes = []\n",
    "    for ticker in db.get_tables():\n",
    "        try:\n",
    "            size = db.count_rows(ticker, start, end)\n",
    "            ticker_sizes.append([ticker, size])\n",
    "        except Exception as e:\n",
    "            pass\n",
    "    return ticker_sizes\n",
    "\n",
    "        \n",
    "def max_value(ticker_sizes):\n",
    "    max_val = 0\n",
    "    for ticker, size in ticker_sizes:\n",
    "        if size > max_val:\n",
    "            max_val = size\n",
    "    return max_val\n",
    "        \n",
    "\n",
    "def valid_tickers(db, start, end):\n",
    "    valid_tickers = []\n",
    "    # Get a list of all tickers and its size\n",
    "    ticker_sizes = get_ticker_sizes(db, start, end)\n",
    "    # Get the max lenght for previous list\n",
    "    max_val = max_value(ticker_sizes)\n",
    "    # Store tickers which match max lenght\n",
    "    for ticker, size in ticker_sizes:\n",
    "        if size == max_val:\n",
    "            valid_tickers.append(ticker)\n",
    "    return valid_tickers"
   ]
  },
  {
   "cell_type": "code",
   "execution_count": 4,
   "id": "french-croatia",
   "metadata": {},
   "outputs": [
    {
     "data": {
      "text/plain": [
       "2548"
      ]
     },
     "execution_count": 4,
     "metadata": {},
     "output_type": "execute_result"
    }
   ],
   "source": [
    "start = '2015-01-01'\n",
    "end = '2017-01-01'\n",
    "\n",
    "valid_tickers = valid_tickers(db, start, end)\n",
    "\n",
    "len(valid_tickers)"
   ]
  },
  {
   "cell_type": "code",
   "execution_count": 6,
   "id": "residential-affiliation",
   "metadata": {},
   "outputs": [],
   "source": [
    "# Create a dictionary and store in memory data from DB for every ticker\n",
    "# This way code will run faster\n",
    "data = {}\n",
    "\n",
    "for ticker in valid_tickers:\n",
    "    df = db.get_data_between_dates(ticker, start, end)\n",
    "    data[ticker] = df['Adj Close'].to_numpy()"
   ]
  },
  {
   "cell_type": "markdown",
   "id": "unusual-companion",
   "metadata": {},
   "source": [
    "### Step 2\n",
    "- Define population size\n",
    "- Create a population of 'n' individuals\n",
    "- Asign a weight for each individual"
   ]
  },
  {
   "cell_type": "code",
   "execution_count": 23,
   "id": "czech-system",
   "metadata": {},
   "outputs": [],
   "source": [
    "class Individual:\n",
    "    def __init__(self, ticker, db, start, end):\n",
    "        self.ticker = ticker\n",
    "        self.weight = np.random.random()\n",
    "        self.db = db\n",
    "        self.start = start\n",
    "        self.end = end\n",
    "        self.data = self.get_data()\n",
    "        \n",
    "    def get_data(self):\n",
    "        return data[self.ticker]\n",
    "#         df = self.db.get_data_between_dates(self.ticker, start, end)\n",
    "#         return df['Adj Close'].to_numpy()\n",
    "            \n",
    "    def var(self):\n",
    "        return np.var(self.data)\n",
    "    \n",
    "    def return_(self):\n",
    "        return (self.data[-1] - self.data[0]) / self.data[0]\n",
    "    \n",
    "    def w_return(self):\n",
    "        return self.return_() * self.weight\n",
    "        \n",
    "    def __eq__(self, obj):\n",
    "        return self.ticker == obj.ticker\n",
    "    \n",
    "    def __str__(self):\n",
    "        return f'{self.ticker} %.2f' % self.weight\n",
    "    \n",
    "    \n",
    "class Portfolio:\n",
    "    def __init__(self, size, tickers, db, start, end):\n",
    "        self.size = size\n",
    "        self.tickers = tickers\n",
    "        self.new_portfolio(db, start, end)\n",
    "        self.normalize_portfolio()\n",
    "        \n",
    "    def new_portfolio(self, db, start, end):\n",
    "        portfolio = []\n",
    "        while len(portfolio) < self.size:\n",
    "            individual = Individual(random.choice(valid_tickers), db, start, end)\n",
    "            if individual not in portfolio:\n",
    "                portfolio.append(individual)\n",
    "        self.portfolio = portfolio\n",
    "        \n",
    "    def normalize_portfolio(self):\n",
    "        total_weight = sum([item.weight for item in self.portfolio])\n",
    "        for item in self.portfolio:\n",
    "            item.weight /= total_weight\n",
    "    \n",
    "    def get_cov(self, item1, item2):\n",
    "        return np.cov(item1.data, item2.data)[0][1]\n",
    "    \n",
    "    def total_risk(self):\n",
    "        sum1 = 0\n",
    "        for item in self.portfolio:\n",
    "            sum1 += item.weight * item.var()\n",
    "        sum2 = 0\n",
    "        for i in range(len(self.portfolio)-1):\n",
    "            for j in range(i+1, len(self.portfolio)):\n",
    "                item1, item2 = self.portfolio[i], self.portfolio[j]\n",
    "                covar = self.get_cov(item1, item2)\n",
    "                sum2 = item1.weight * item2.weight * covar\n",
    "        return sum1 + sum2\n",
    "       \n",
    "    def total_return(self):\n",
    "        return sum([item.w_return() for item in self.portfolio])\n",
    "    \n",
    "    def fitness(self):\n",
    "        return self.total_return() - math.sqrt(self.total_risk())\n",
    "        \n",
    "    def __str__(self):        \n",
    "        return ' , '.join([str(item) for item in self.portfolio])"
   ]
  },
  {
   "cell_type": "code",
   "execution_count": 29,
   "id": "handed-darkness",
   "metadata": {},
   "outputs": [
    {
     "name": "stdout",
     "output_type": "stream",
     "text": [
      "-12.286097420853853\n"
     ]
    }
   ],
   "source": [
    "PORTFOLIO_SIZE = 7\n",
    "POPULATION_SIZE = 200\n",
    "\n",
    "population = []\n",
    "for _ in range(POPULATION_SIZE):\n",
    "    population.append(Portfolio(PORTFOLIO_SIZE, valid_tickers, db, start, end))\n",
    "    \n",
    "print(population[0].fitness())"
   ]
  },
  {
   "cell_type": "markdown",
   "id": "apparent-novel",
   "metadata": {},
   "source": [
    "## Step 3\n",
    "- Select best individuals in population\n",
    "- Crossover until population reach previous size\n",
    "- Mutate genes with certain probability"
   ]
  },
  {
   "cell_type": "code",
   "execution_count": 30,
   "id": "approved-secret",
   "metadata": {},
   "outputs": [],
   "source": [
    "population.sort(key=lambda x: x.fitness(), reverse=True)"
   ]
  },
  {
   "cell_type": "code",
   "execution_count": 32,
   "id": "uniform-tourism",
   "metadata": {},
   "outputs": [
    {
     "data": {
      "text/plain": [
       "(0.20677265218916016, 4.665115078987793)"
      ]
     },
     "execution_count": 32,
     "metadata": {},
     "output_type": "execute_result"
    }
   ],
   "source": [
    "best = population[0]\n",
    "best.total_return(), best.total_risk()"
   ]
  },
  {
   "cell_type": "code",
   "execution_count": 35,
   "id": "acoustic-hughes",
   "metadata": {},
   "outputs": [],
   "source": [
    "def select_parents(population):\n",
    "    weight_list = [portfolio.fitness() for portfolio in population]\n",
    "    return random.choices(population, weights=weight_list, k=2)\n",
    "\n",
    "# SOME LOGIC NEEDS TO BE IMPLEMENTED HERE!!!!\n",
    "def crossover(parent1, parent2):\n",
    "    child1 = parent1\n",
    "    child2 = parent2\n",
    "    return child1, child2"
   ]
  },
  {
   "cell_type": "code",
   "execution_count": 37,
   "id": "significant-discharge",
   "metadata": {},
   "outputs": [],
   "source": [
    "survivals = population[:int(POPULATION_SIZE/2)]\n",
    "\n",
    "while len(survivals) <= POPULATION_SIZE:\n",
    "    parent1, parent2 = select_parents(population)\n",
    "    child1, child2 = crossover(parent1, parent2)\n",
    "    survivals.append(child1)\n",
    "    survivals.append(child2)\n",
    "    \n",
    "population = survivals"
   ]
  },
  {
   "cell_type": "code",
   "execution_count": 38,
   "id": "relevant-satellite",
   "metadata": {},
   "outputs": [],
   "source": [
    "population.sort(key=lambda x: x.fitness(), reverse=True)"
   ]
  },
  {
   "cell_type": "code",
   "execution_count": 39,
   "id": "cloudy-doctrine",
   "metadata": {},
   "outputs": [
    {
     "data": {
      "text/plain": [
       "(0.20677265218916016, 4.665115078987793)"
      ]
     },
     "execution_count": 39,
     "metadata": {},
     "output_type": "execute_result"
    }
   ],
   "source": [
    "# TESTING, since no crossover logic has been implemented,\n",
    "# best individual should match with previous one\n",
    "best = population[0]\n",
    "best.total_return(), best.total_risk()"
   ]
  }
 ],
 "metadata": {
  "kernelspec": {
   "display_name": "Python 3",
   "language": "python",
   "name": "python3"
  },
  "language_info": {
   "codemirror_mode": {
    "name": "ipython",
    "version": 3
   },
   "file_extension": ".py",
   "mimetype": "text/x-python",
   "name": "python",
   "nbconvert_exporter": "python",
   "pygments_lexer": "ipython3",
   "version": "3.8.5"
  }
 },
 "nbformat": 4,
 "nbformat_minor": 5
}
