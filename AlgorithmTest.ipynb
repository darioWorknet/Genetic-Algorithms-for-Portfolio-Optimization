{
 "cells": [
  {
   "cell_type": "markdown",
   "id": "hundred-space",
   "metadata": {},
   "source": [
    "# Algorithm"
   ]
  },
  {
   "cell_type": "code",
   "execution_count": 1,
   "id": "caring-seating",
   "metadata": {},
   "outputs": [],
   "source": [
    "import pandas as pd\n",
    "from DBhelper import db_helper\n",
    "import random\n",
    "import numpy as np"
   ]
  },
  {
   "cell_type": "markdown",
   "id": "everyday-armstrong",
   "metadata": {},
   "source": [
    "## Connection to database"
   ]
  },
  {
   "cell_type": "code",
   "execution_count": 2,
   "id": "altered-checkout",
   "metadata": {},
   "outputs": [],
   "source": [
    "db = db_helper(db='test_ticker')"
   ]
  },
  {
   "cell_type": "markdown",
   "id": "liberal-welcome",
   "metadata": {},
   "source": [
    "### Step 1\n",
    "- Define a time range\n",
    "- Get valid stocks for that range"
   ]
  },
  {
   "cell_type": "code",
   "execution_count": 3,
   "id": "impressed-implementation",
   "metadata": {},
   "outputs": [],
   "source": [
    "def get_ticker_sizes(db, start, end):\n",
    "    ticker_sizes = []\n",
    "    for ticker in db.get_tables():\n",
    "        try:\n",
    "            size = db.count_rows(ticker, start, end)\n",
    "            ticker_sizes.append([ticker, size])\n",
    "        except Exception as e:\n",
    "            pass\n",
    "    return ticker_sizes\n",
    "\n",
    "        \n",
    "def max_value(ticker_sizes):\n",
    "    max_val = 0\n",
    "    for ticker, size in ticker_sizes:\n",
    "        if size > max_val:\n",
    "            max_val = size\n",
    "    return max_val\n",
    "        \n",
    "\n",
    "def valid_tickers(db, start, end):\n",
    "    valid_tickers = []\n",
    "    # Get a list of all tickers and its size\n",
    "    ticker_sizes = get_ticker_sizes(db, start, end)\n",
    "    # Get the max lenght for previous list\n",
    "    max_val = max_value(ticker_sizes)\n",
    "    # Store tickers which match max lenght\n",
    "    for ticker, size in ticker_sizes:\n",
    "        if size == max_val:\n",
    "            valid_tickers.append(ticker)\n",
    "    return valid_tickers"
   ]
  },
  {
   "cell_type": "code",
   "execution_count": 4,
   "id": "smaller-wallace",
   "metadata": {},
   "outputs": [
    {
     "data": {
      "text/plain": [
       "2548"
      ]
     },
     "execution_count": 4,
     "metadata": {},
     "output_type": "execute_result"
    }
   ],
   "source": [
    "start = '2015-01-01'\n",
    "end = '2017-01-01'\n",
    "\n",
    "valid_tickers = valid_tickers(db, start, end)\n",
    "\n",
    "len(valid_tickers)"
   ]
  },
  {
   "cell_type": "markdown",
   "id": "productive-faith",
   "metadata": {},
   "source": [
    "### Step 2\n",
    "- Define population size\n",
    "- Create a population\n",
    "- Asign a weight for each individual"
   ]
  },
  {
   "cell_type": "code",
   "execution_count": 5,
   "id": "contrary-institute",
   "metadata": {},
   "outputs": [],
   "source": [
    "class Individual:\n",
    "    def __init__(self, ticker, db, start, end):\n",
    "        self.ticker = ticker\n",
    "        self.weight = np.random.random()\n",
    "        self.db = db\n",
    "        self.start = start\n",
    "        self.end = end\n",
    "        self.data = self.get_data()\n",
    "        \n",
    "    def get_data(self):\n",
    "        df = self.db.get_data_between_dates(self.ticker, start, end)\n",
    "        return df['Adj Close'].to_numpy()\n",
    "            \n",
    "    def var(self):\n",
    "        return np.var(self.data)\n",
    "    \n",
    "    def return_(self):\n",
    "        return (self.data[-1] - self.data[0]) / self.data[0]\n",
    "    \n",
    "    def w_return(self):\n",
    "        return self.return_() * self.weight\n",
    "        \n",
    "    def __eq__(self, obj):\n",
    "        return self.ticker == obj.ticker\n",
    "    \n",
    "    def __str__(self):\n",
    "        return f'{self.ticker} %.2f' % self.weight\n",
    "    \n",
    "    \n",
    "class Portfolio:\n",
    "    def __init__(self, size, tickers, db, start, end):\n",
    "        self.size = size\n",
    "        self.tickers = tickers\n",
    "        self.new_portfolio(db, start, end)\n",
    "        self.normalize_portfolio()\n",
    "        \n",
    "    def new_portfolio(self, db, start, end):\n",
    "        portfolio = []\n",
    "        while len(portfolio) < self.size:\n",
    "            individual = Individual(random.choice(valid_tickers), db, start, end)\n",
    "            if individual not in portfolio:\n",
    "                portfolio.append(individual)\n",
    "        self.portfolio = portfolio\n",
    "        \n",
    "    def normalize_portfolio(self):\n",
    "        total_weight = sum([item.weight for item in self.portfolio])\n",
    "        for item in self.portfolio:\n",
    "            item.weight /= total_weight\n",
    "        \n",
    "    def total_weight(self):\n",
    "        return sum([item.weight for item in self.portfolio])\n",
    "    \n",
    "    def get_cov(self, item1, item2):\n",
    "        return np.cov(item1.data, item2.data)[0][1]\n",
    "    \n",
    "    def total_risk(self):\n",
    "        sum1 = 0\n",
    "        for item in self.portfolio:\n",
    "            sum1 += item.weight * item.var()\n",
    "        sum2 = 0\n",
    "        for i in range(len(self.portfolio)-1):\n",
    "            for j in range(i+1, len(self.portfolio)):\n",
    "                item1, item2 = self.portfolio[i], self.portfolio[j]\n",
    "                covar = self.get_cov(item1, item2)\n",
    "                sum2 = item1.weight * item2.weight * covar\n",
    "        return sum1 + sum2\n",
    "    \n",
    "    def total_return(self):\n",
    "        return sum([item.w_return() for item in self.portfolio])\n",
    "        \n",
    "    def __str__(self):        \n",
    "        return ' , '.join([str(item) for item in self.portfolio])"
   ]
  },
  {
   "cell_type": "code",
   "execution_count": 11,
   "id": "balanced-aquatic",
   "metadata": {},
   "outputs": [
    {
     "data": {
      "text/plain": [
       "1.0"
      ]
     },
     "execution_count": 11,
     "metadata": {},
     "output_type": "execute_result"
    }
   ],
   "source": [
    "POPULATION_SIZE = 7\n",
    "portfolio = Portfolio(POPULATION_SIZE, valid_tickers, db, start, end)\n",
    "portfolio.total_weight()"
   ]
  },
  {
   "cell_type": "code",
   "execution_count": 12,
   "id": "expanded-watts",
   "metadata": {},
   "outputs": [
    {
     "name": "stdout",
     "output_type": "stream",
     "text": [
      "fang 0.20 , tmus 0.10 , itic 0.28 , coo 0.15 , casi 0.03 , mgrc 0.18 , maa 0.05\n"
     ]
    }
   ],
   "source": [
    "print(portfolio)"
   ]
  },
  {
   "cell_type": "code",
   "execution_count": 13,
   "id": "million-roberts",
   "metadata": {},
   "outputs": [
    {
     "data": {
      "text/plain": [
       "147.72537970303586"
      ]
     },
     "execution_count": 13,
     "metadata": {},
     "output_type": "execute_result"
    }
   ],
   "source": [
    "portfolio.total_risk()"
   ]
  },
  {
   "cell_type": "code",
   "execution_count": null,
   "id": "portuguese-roller",
   "metadata": {},
   "outputs": [],
   "source": [
    "portfolio.total_return()"
   ]
  }
 ],
 "metadata": {
  "kernelspec": {
   "display_name": "Python 3",
   "language": "python",
   "name": "python3"
  },
  "language_info": {
   "codemirror_mode": {
    "name": "ipython",
    "version": 3
   },
   "file_extension": ".py",
   "mimetype": "text/x-python",
   "name": "python",
   "nbconvert_exporter": "python",
   "pygments_lexer": "ipython3",
   "version": "3.8.5"
  }
 },
 "nbformat": 4,
 "nbformat_minor": 5
}
