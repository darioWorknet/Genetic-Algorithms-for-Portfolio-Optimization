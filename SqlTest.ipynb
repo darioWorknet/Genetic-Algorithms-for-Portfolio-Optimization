{
 "cells": [
  {
   "cell_type": "code",
   "execution_count": 1,
   "id": "female-wyoming",
   "metadata": {},
   "outputs": [],
   "source": [
    "import pandas as pd\n",
    "import pymysql"
   ]
  },
  {
   "cell_type": "markdown",
   "id": "editorial-recruitment",
   "metadata": {},
   "source": [
    "## Sql connection"
   ]
  },
  {
   "cell_type": "code",
   "execution_count": 2,
   "id": "severe-spouse",
   "metadata": {},
   "outputs": [],
   "source": [
    "# Connect to the database\n",
    "connection = pymysql.connect(host='localhost',\n",
    "                         user='root',\n",
    "                         password='root',\n",
    "                         db='test_ticker')\n",
    "\n",
    "\n",
    "# create cursor\n",
    "cursor=connection.cursor()"
   ]
  },
  {
   "cell_type": "code",
   "execution_count": 3,
   "id": "complete-wrestling",
   "metadata": {},
   "outputs": [
    {
     "data": {
      "text/html": [
       "<div>\n",
       "<style scoped>\n",
       "    .dataframe tbody tr th:only-of-type {\n",
       "        vertical-align: middle;\n",
       "    }\n",
       "\n",
       "    .dataframe tbody tr th {\n",
       "        vertical-align: top;\n",
       "    }\n",
       "\n",
       "    .dataframe thead th {\n",
       "        text-align: right;\n",
       "    }\n",
       "</style>\n",
       "<table border=\"1\" class=\"dataframe\">\n",
       "  <thead>\n",
       "    <tr style=\"text-align: right;\">\n",
       "      <th></th>\n",
       "      <th>title</th>\n",
       "      <th>price</th>\n",
       "    </tr>\n",
       "  </thead>\n",
       "  <tbody>\n",
       "    <tr>\n",
       "      <th>0</th>\n",
       "      <td>Genetic Algoritms</td>\n",
       "      <td>16</td>\n",
       "    </tr>\n",
       "    <tr>\n",
       "      <th>1</th>\n",
       "      <td>Python for Finance</td>\n",
       "      <td>20</td>\n",
       "    </tr>\n",
       "    <tr>\n",
       "      <th>2</th>\n",
       "      <td>Machine Learning Intro</td>\n",
       "      <td>19</td>\n",
       "    </tr>\n",
       "  </tbody>\n",
       "</table>\n",
       "</div>"
      ],
      "text/plain": [
       "                    title  price\n",
       "0       Genetic Algoritms     16\n",
       "1      Python for Finance     20\n",
       "2  Machine Learning Intro     19"
      ]
     },
     "execution_count": 3,
     "metadata": {},
     "output_type": "execute_result"
    }
   ],
   "source": [
    "# Create dataframe\n",
    "data = pd.DataFrame({\n",
    "    'title':['Genetic Algoritms', 'Python for Finance', 'Machine Learning Intro'],\n",
    "    'price':[16, 20, 19]\n",
    "})\n",
    "\n",
    "data"
   ]
  },
  {
   "cell_type": "code",
   "execution_count": 4,
   "id": "valued-connecticut",
   "metadata": {},
   "outputs": [],
   "source": [
    "def sql_insert(connection, cursor, table, cols, data):\n",
    "    sql = f\"INSERT INTO {table} ({cols}) VALUES (\" + \"%s,\"*(len(data)-1) + \"%s)\"\n",
    "    try:\n",
    "        print(sql % data)\n",
    "#         cursor.execute(sql, data)\n",
    "    except Exception as e:\n",
    "        print(e)\n",
    "        return\n",
    "#     connection.commit()"
   ]
  },
  {
   "cell_type": "code",
   "execution_count": 6,
   "id": "compliant-cursor",
   "metadata": {},
   "outputs": [
    {
     "name": "stdout",
     "output_type": "stream",
     "text": [
      "INSERT INTO test_table (title,price) VALUES (Genetic Algoritms,16)\n",
      "INSERT INTO test_table (title,price) VALUES (Python for Finance,20)\n",
      "INSERT INTO test_table (title,price) VALUES (Machine Learning Intro,19)\n"
     ]
    }
   ],
   "source": [
    "# Get col names, no need for ID, it's an autoincrement value\n",
    "cols = ','.join([col for col in data.columns.to_list()])\n",
    "\n",
    "# Insert values into DB, no need for ID value\n",
    "for i,row in data.iterrows():\n",
    "    sql_insert(connection, cursor, \"test_table\", cols, tuple(row))"
   ]
  },
  {
   "cell_type": "code",
   "execution_count": null,
   "id": "broad-stroke",
   "metadata": {},
   "outputs": [],
   "source": []
  }
 ],
 "metadata": {
  "kernelspec": {
   "display_name": "Python 3",
   "language": "python",
   "name": "python3"
  },
  "language_info": {
   "codemirror_mode": {
    "name": "ipython",
    "version": 3
   },
   "file_extension": ".py",
   "mimetype": "text/x-python",
   "name": "python",
   "nbconvert_exporter": "python",
   "pygments_lexer": "ipython3",
   "version": "3.8.5"
  }
 },
 "nbformat": 4,
 "nbformat_minor": 5
}
