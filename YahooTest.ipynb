{
 "cells": [
  {
   "cell_type": "code",
   "execution_count": null,
   "id": "graphic-clarity",
   "metadata": {},
   "outputs": [],
   "source": [
    "import pandas as pd\n",
    "import pandas_datareader.data as web\n",
    "import datetime as dt\n",
    "from sqlalchemy import create_engine, inspect"
   ]
  },
  {
   "cell_type": "markdown",
   "id": "forward-twelve",
   "metadata": {},
   "source": [
    "## Define database connector"
   ]
  },
  {
   "cell_type": "code",
   "execution_count": null,
   "id": "passive-opportunity",
   "metadata": {},
   "outputs": [],
   "source": [
    "class db_helper:\n",
    "    def __init__(self, host='localhost', user='root', password='root', db='db'):\n",
    "        # Sqlalchemy connection\n",
    "        engine_str = f'mysql+pymysql://{user}:{password}@{host}/{db}'\n",
    "        self.engine = create_engine(engine_str)\n",
    "        \n",
    "    def get_tables(self):\n",
    "        query = self.engine.execute('SHOW TABLES')\n",
    "        return [item for tupl in query.fetchall() for item in tupl]\n",
    "    \n",
    "    def has_table(self, table):\n",
    "        return inspect(self.engine).has_table(table)\n",
    "            \n",
    "    def get_data_between_dates(self, table, start, end):\n",
    "        sql = f'''SELECT * FROM {table}\n",
    "                WHERE Date BETWEEN '{start}' AND '{end}'\n",
    "                ORDER BY Date'''\n",
    "        return pd.read_sql(sql, con=self.engine)\n",
    "    \n",
    "    def count_rows(self, table, start, end):\n",
    "        sql = f'''SELECT COUNT(*) FROM {table}\n",
    "                WHERE Date BETWEEN '{start}' AND '{end}';'''\n",
    "        return self.engine.execute(sql).fetchall()[0][0]\n",
    "    \n",
    "    def df_to_sql(self, df, table, id_):\n",
    "        # if_exists='append' -> If table exists: Insert new values to the existing table.\n",
    "        df.to_sql(table.lower(), self.engine, if_exists='append', index=True, index_label=id_)"
   ]
  },
  {
   "cell_type": "markdown",
   "id": "suffering-booth",
   "metadata": {},
   "source": [
    "## Create connection to database"
   ]
  },
  {
   "cell_type": "code",
   "execution_count": null,
   "id": "cheap-local",
   "metadata": {},
   "outputs": [],
   "source": [
    "db = db_helper(db='test_ticker')"
   ]
  },
  {
   "cell_type": "markdown",
   "id": "boring-field",
   "metadata": {},
   "source": [
    "## Dowload tickers from Yahoo and store in database"
   ]
  },
  {
   "cell_type": "code",
   "execution_count": null,
   "id": "split-terrorist",
   "metadata": {},
   "outputs": [],
   "source": [
    "# Defines the time periods to use\n",
    "start = dt.datetime(2010, 1, 1)\n",
    "end = dt.datetime(2021, 1, 1)\n",
    "\n",
    "# Getting a list af tickers from csv file\n",
    "tickers = pd.read_csv('Wilshire-5000-Stocks.csv')['Ticker']\n",
    "tickers = [\"AMZN\"]\n",
    "failed_tickers = []"
   ]
  },
  {
   "cell_type": "code",
   "execution_count": null,
   "id": "tropical-garage",
   "metadata": {},
   "outputs": [],
   "source": [
    "# Iterate tickers list and download data for all of them in the database\n",
    "for ticker in tickers:\n",
    "    try:\n",
    "        df = web.DataReader(ticker, 'yahoo', start, end)\n",
    "    except Exception:\n",
    "        print(f\"Ticker '{ticker}' failed to be downloaded\")\n",
    "        failed_tickers.append(ticker)\n",
    "        continue\n",
    "    try:\n",
    "        # If table does not exist it is created automatically\n",
    "        db.df_to_sql(df, ticker, id_=\"Date\")\n",
    "    except Exception as e:\n",
    "        print(f'Table {ticker} already up to date')\n",
    "        "
   ]
  }
 ],
 "metadata": {
  "kernelspec": {
   "display_name": "Python 3",
   "language": "python",
   "name": "python3"
  },
  "language_info": {
   "codemirror_mode": {
    "name": "ipython",
    "version": 3
   },
   "file_extension": ".py",
   "mimetype": "text/x-python",
   "name": "python",
   "nbconvert_exporter": "python",
   "pygments_lexer": "ipython3",
   "version": "3.8.5"
  }
 },
 "nbformat": 4,
 "nbformat_minor": 5
}
