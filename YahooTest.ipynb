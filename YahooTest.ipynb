{
 "cells": [
  {
   "cell_type": "code",
   "execution_count": 1,
   "id": "graphic-clarity",
   "metadata": {},
   "outputs": [],
   "source": [
    "import pandas as pd\n",
    "import pandas_datareader.data as web\n",
    "import datetime as dt\n",
    "import pymysql"
   ]
  },
  {
   "cell_type": "markdown",
   "id": "forward-twelve",
   "metadata": {},
   "source": [
    "## Define database connector"
   ]
  },
  {
   "cell_type": "code",
   "execution_count": 11,
   "id": "passive-opportunity",
   "metadata": {},
   "outputs": [],
   "source": [
    "class db_helper:\n",
    "    def __init__(self, host='localhost', user='root', password='root', db='db'):\n",
    "        self.connection = pymysql.connect(host=host,\n",
    "                         user=user,\n",
    "                         password=password,\n",
    "                         db=db)\n",
    "        self.cursor = self.connection.cursor()\n",
    "        \n",
    "    def table_exists(self, table):\n",
    "        results = self.cursor.execute(\"SHOW TABLES\")\n",
    "        tables = list()\n",
    "        for res in self.cursor.fetchall():\n",
    "            tables.append(*res)\n",
    "        if table.lower() in tables:\n",
    "            return True\n",
    "        return False\n",
    "    \n",
    "    def create_table(self, table):\n",
    "        query = f'''CREATE TABLE `test_ticker`.`{table}` (\n",
    "                  `ID` INT NOT NULL AUTO_INCREMENT,\n",
    "                  `High` DOUBLE NULL,\n",
    "                  `Low` DOUBLE NULL,\n",
    "                  `Open` DOUBLE NULL,\n",
    "                  `Close` DOUBLE NULL,\n",
    "                  `Volume` DOUBLE NULL,\n",
    "                  `Adj Close` DOUBLE NULL,\n",
    "                  PRIMARY KEY (`ID`));'''\n",
    "        self.cursor.execute(query)\n",
    "        \n",
    "    def insert_into_table(self, table, cols, data):\n",
    "        sql = f\"INSERT INTO {table} ({cols}) VALUES (\" + \"%s,\"*(len(data)-1) + \"%s)\"\n",
    "        try:\n",
    "            self.cursor.execute(sql, data)\n",
    "        except Exception as e:\n",
    "            print(e)\n",
    "            return\n",
    "        self.connection.commit()\n",
    "        \n",
    "    def df_to_db(self, df, table):\n",
    "        # Get colum names as string\n",
    "        cols = ','.join([f\"`{col}`\" for col in df.columns.to_list()])\n",
    "        # Insert values into DB, no need for ID value\n",
    "        for i,row in df.iterrows():\n",
    "            self.insert_into_table(table, cols, tuple(row))"
   ]
  },
  {
   "cell_type": "markdown",
   "id": "suffering-booth",
   "metadata": {},
   "source": [
    "## Create connection to database"
   ]
  },
  {
   "cell_type": "code",
   "execution_count": 12,
   "id": "cheap-local",
   "metadata": {},
   "outputs": [],
   "source": [
    "db = db_helper(db='test_ticker')"
   ]
  },
  {
   "cell_type": "markdown",
   "id": "boring-field",
   "metadata": {},
   "source": [
    "## Dowload tickers from Yahoo and store in database"
   ]
  },
  {
   "cell_type": "code",
   "execution_count": 13,
   "id": "tropical-garage",
   "metadata": {},
   "outputs": [],
   "source": [
    "# Defines the time periods to use\n",
    "start = dt.datetime(2019, 1, 1)\n",
    "end = dt.datetime(2019, 2, 1)\n",
    "\n",
    "# Reads data into a dataframe\n",
    "tickets = ['FB', 'VOO']\n",
    "\n",
    "for ticker in tickers:\n",
    "    try:\n",
    "        df = web.DataReader(ticker, 'yahoo', start, end)\n",
    "    except Exception as e:\n",
    "        print(e)\n",
    "        print(f\"Ticker '{ticker}' failed to be downloaded\")\n",
    "        continue\n",
    "    if not db.table_exists(ticker):\n",
    "        db.create_table(ticker)\n",
    "    db.df_to_db(df, ticker)"
   ]
  }
 ],
 "metadata": {
  "kernelspec": {
   "display_name": "Python 3",
   "language": "python",
   "name": "python3"
  },
  "language_info": {
   "codemirror_mode": {
    "name": "ipython",
    "version": 3
   },
   "file_extension": ".py",
   "mimetype": "text/x-python",
   "name": "python",
   "nbconvert_exporter": "python",
   "pygments_lexer": "ipython3",
   "version": "3.8.5"
  }
 },
 "nbformat": 4,
 "nbformat_minor": 5
}
